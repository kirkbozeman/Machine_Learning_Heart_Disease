{
 "cells": [
  {
   "cell_type": "markdown",
   "metadata": {},
   "source": [
    "The following notebook uses pandas, numpy, and sklearn to examine the public dataset available from http://archive.ics.uci.edu/ml/datasets/heart+disease.\n",
    "\n",
    "\n",
    "We will examine this dataset for predictive ML possibilities (classification) using\n",
    "* Logistic Regression (for classification)\n",
    "* Random Forest\n",
    "* Decision Trees\n",
    "* Support Vector Machines\n",
    "\n",
    "\n",
    "The dataset contains the following:\n",
    "\n",
    "CONTINUOUS FEATURES\n",
    " * age \n",
    " * trestbps – resting blood pressure (in mm Hg on admission to the hospital)\n",
    " * chol – serum cholesterol in mg/dl\n",
    " * thalach – maximum heart rate achieved\n",
    " * oldpeak – ST depression induced by exercise relative to rest\n",
    " * ca – (I guess) number of major vessels (0-3) colored by fluoroscopy\n",
    "\n",
    "CATEGORICAL FEATURES\n",
    " * sex – 1/0 for male/female\n",
    " * cp – chest pain type, Value 1: typical angina, Value 2: atypical angina, Value 3: non-anginal pain, Value 4: asymptomatic\n",
    " * fbs – fasting blood sugar > 120 mg/dl  (1 = true; 0 = false)\n",
    " * restecg – resting electrocardiographic results, Value 0: normal, Value 1: having ST-T wave abnormality – T wave inversions and/or ST elevation or depression of > 0.05 mV, Value 2: showing probable or definite left ventricular hypertrophy by Estes' criteria\n",
    " * exang  – exercise induced angina (1 = yes; 0 = no)\n",
    " * slope – the slope of the peak exercise ST segment, Value 1: upsloping, Value 2: flat, Value 3: downsloping\n",
    " * thal – 3 = normal; 6 = fixed defect; 7 = reversable defect\n",
    " * num – diagnosis of heart disease (angiographic disease status), Value 0: < 50% diameter narrowing, Value 1: > 50% diameter narrowing, in any major vessel: attributes 59 through 68 are vessels (0 is absent, 1 is present); this is our RESPONSE"
   ]
  },
  {
   "cell_type": "markdown",
   "metadata": {},
   "source": [
    "## Pre-Processing"
   ]
  },
  {
   "cell_type": "markdown",
   "metadata": {},
   "source": [
    "We will need the following libraries:"
   ]
  },
  {
   "cell_type": "code",
   "execution_count": 2,
   "metadata": {},
   "outputs": [],
   "source": [
    "import pandas as pd\n",
    "import numpy as np"
   ]
  },
  {
   "cell_type": "markdown",
   "metadata": {},
   "source": [
    "Below we ingest our cleaned dataset, removing any unnecessary features. We also \"categorize\" our nonbinary features (one hot encode)."
   ]
  },
  {
   "cell_type": "code",
   "execution_count": 3,
   "metadata": {},
   "outputs": [
    {
     "data": {
      "text/html": [
       "<div>\n",
       "<style scoped>\n",
       "    .dataframe tbody tr th:only-of-type {\n",
       "        vertical-align: middle;\n",
       "    }\n",
       "\n",
       "    .dataframe tbody tr th {\n",
       "        vertical-align: top;\n",
       "    }\n",
       "\n",
       "    .dataframe thead th {\n",
       "        text-align: right;\n",
       "    }\n",
       "</style>\n",
       "<table border=\"1\" class=\"dataframe\">\n",
       "  <thead>\n",
       "    <tr style=\"text-align: right;\">\n",
       "      <th></th>\n",
       "      <th>age</th>\n",
       "      <th>sex</th>\n",
       "      <th>trestbps</th>\n",
       "      <th>chol</th>\n",
       "      <th>fbs</th>\n",
       "      <th>thalach</th>\n",
       "      <th>exang</th>\n",
       "      <th>oldpeak</th>\n",
       "      <th>ca</th>\n",
       "      <th>num_binary</th>\n",
       "      <th>...</th>\n",
       "      <th>cp_4</th>\n",
       "      <th>restecg_0</th>\n",
       "      <th>restecg_1</th>\n",
       "      <th>restecg_2</th>\n",
       "      <th>slope_1</th>\n",
       "      <th>slope_2</th>\n",
       "      <th>slope_3</th>\n",
       "      <th>thal_3</th>\n",
       "      <th>thal_6</th>\n",
       "      <th>thal_7</th>\n",
       "    </tr>\n",
       "  </thead>\n",
       "  <tbody>\n",
       "    <tr>\n",
       "      <th>0</th>\n",
       "      <td>63</td>\n",
       "      <td>1</td>\n",
       "      <td>145</td>\n",
       "      <td>233</td>\n",
       "      <td>1</td>\n",
       "      <td>150</td>\n",
       "      <td>0</td>\n",
       "      <td>2.3</td>\n",
       "      <td>0</td>\n",
       "      <td>0</td>\n",
       "      <td>...</td>\n",
       "      <td>0</td>\n",
       "      <td>0</td>\n",
       "      <td>0</td>\n",
       "      <td>1</td>\n",
       "      <td>0</td>\n",
       "      <td>0</td>\n",
       "      <td>1</td>\n",
       "      <td>0</td>\n",
       "      <td>1</td>\n",
       "      <td>0</td>\n",
       "    </tr>\n",
       "    <tr>\n",
       "      <th>1</th>\n",
       "      <td>67</td>\n",
       "      <td>1</td>\n",
       "      <td>160</td>\n",
       "      <td>286</td>\n",
       "      <td>0</td>\n",
       "      <td>108</td>\n",
       "      <td>1</td>\n",
       "      <td>1.5</td>\n",
       "      <td>3</td>\n",
       "      <td>1</td>\n",
       "      <td>...</td>\n",
       "      <td>1</td>\n",
       "      <td>0</td>\n",
       "      <td>0</td>\n",
       "      <td>1</td>\n",
       "      <td>0</td>\n",
       "      <td>1</td>\n",
       "      <td>0</td>\n",
       "      <td>1</td>\n",
       "      <td>0</td>\n",
       "      <td>0</td>\n",
       "    </tr>\n",
       "    <tr>\n",
       "      <th>2</th>\n",
       "      <td>67</td>\n",
       "      <td>1</td>\n",
       "      <td>120</td>\n",
       "      <td>229</td>\n",
       "      <td>0</td>\n",
       "      <td>129</td>\n",
       "      <td>1</td>\n",
       "      <td>2.6</td>\n",
       "      <td>2</td>\n",
       "      <td>1</td>\n",
       "      <td>...</td>\n",
       "      <td>1</td>\n",
       "      <td>0</td>\n",
       "      <td>0</td>\n",
       "      <td>1</td>\n",
       "      <td>0</td>\n",
       "      <td>1</td>\n",
       "      <td>0</td>\n",
       "      <td>0</td>\n",
       "      <td>0</td>\n",
       "      <td>1</td>\n",
       "    </tr>\n",
       "    <tr>\n",
       "      <th>3</th>\n",
       "      <td>37</td>\n",
       "      <td>1</td>\n",
       "      <td>130</td>\n",
       "      <td>250</td>\n",
       "      <td>0</td>\n",
       "      <td>187</td>\n",
       "      <td>0</td>\n",
       "      <td>3.5</td>\n",
       "      <td>0</td>\n",
       "      <td>0</td>\n",
       "      <td>...</td>\n",
       "      <td>0</td>\n",
       "      <td>1</td>\n",
       "      <td>0</td>\n",
       "      <td>0</td>\n",
       "      <td>0</td>\n",
       "      <td>0</td>\n",
       "      <td>1</td>\n",
       "      <td>1</td>\n",
       "      <td>0</td>\n",
       "      <td>0</td>\n",
       "    </tr>\n",
       "    <tr>\n",
       "      <th>4</th>\n",
       "      <td>41</td>\n",
       "      <td>0</td>\n",
       "      <td>130</td>\n",
       "      <td>204</td>\n",
       "      <td>0</td>\n",
       "      <td>172</td>\n",
       "      <td>0</td>\n",
       "      <td>1.4</td>\n",
       "      <td>0</td>\n",
       "      <td>0</td>\n",
       "      <td>...</td>\n",
       "      <td>0</td>\n",
       "      <td>0</td>\n",
       "      <td>0</td>\n",
       "      <td>1</td>\n",
       "      <td>1</td>\n",
       "      <td>0</td>\n",
       "      <td>0</td>\n",
       "      <td>1</td>\n",
       "      <td>0</td>\n",
       "      <td>0</td>\n",
       "    </tr>\n",
       "  </tbody>\n",
       "</table>\n",
       "<p>5 rows × 23 columns</p>\n",
       "</div>"
      ],
      "text/plain": [
       "   age  sex  trestbps  chol  fbs  thalach  exang  oldpeak  ca  num_binary  \\\n",
       "0   63    1       145   233    1      150      0      2.3   0           0   \n",
       "1   67    1       160   286    0      108      1      1.5   3           1   \n",
       "2   67    1       120   229    0      129      1      2.6   2           1   \n",
       "3   37    1       130   250    0      187      0      3.5   0           0   \n",
       "4   41    0       130   204    0      172      0      1.4   0           0   \n",
       "\n",
       "    ...    cp_4  restecg_0  restecg_1  restecg_2  slope_1  slope_2  slope_3  \\\n",
       "0   ...       0          0          0          1        0        0        1   \n",
       "1   ...       1          0          0          1        0        1        0   \n",
       "2   ...       1          0          0          1        0        1        0   \n",
       "3   ...       0          1          0          0        0        0        1   \n",
       "4   ...       0          0          0          1        1        0        0   \n",
       "\n",
       "   thal_3  thal_6  thal_7  \n",
       "0       0       1       0  \n",
       "1       1       0       0  \n",
       "2       0       0       1  \n",
       "3       1       0       0  \n",
       "4       1       0       0  \n",
       "\n",
       "[5 rows x 23 columns]"
      ]
     },
     "execution_count": 3,
     "metadata": {},
     "output_type": "execute_result"
    }
   ],
   "source": [
    "df = pd.read_csv(\"view_processed_cleveland.txt\")\n",
    "df = df.drop([\"num\"], axis=1)  # use num_binary not num\n",
    "\n",
    "# create one-hot encoding on needed categorical\n",
    "cats = pd.get_dummies(df[['cp','restecg','slope','thal']].astype('category'))\n",
    "df = df.drop(['cp','restecg','slope','thal'], axis=1)\n",
    "df = df.join (cats)\n",
    "df.head()\n"
   ]
  },
  {
   "cell_type": "markdown",
   "metadata": {},
   "source": [
    "Below we create our train/test data w/ a 70%/30% split."
   ]
  },
  {
   "cell_type": "code",
   "execution_count": 4,
   "metadata": {},
   "outputs": [
    {
     "data": {
      "text/plain": [
       "((207, 23), (90, 23))"
      ]
     },
     "execution_count": 4,
     "metadata": {},
     "output_type": "execute_result"
    }
   ],
   "source": [
    "from sklearn.model_selection import train_test_split\n",
    "train, test = train_test_split(df, test_size=0.3)\n",
    "train.shape, test.shape"
   ]
  },
  {
   "cell_type": "markdown",
   "metadata": {},
   "source": [
    "## Logistic Regression"
   ]
  },
  {
   "cell_type": "code",
   "execution_count": 41,
   "metadata": {},
   "outputs": [],
   "source": [
    "# lbfgs\n",
    "from sklearn.linear_model import LogisticRegression\n",
    "model = LogisticRegression(solver='lbfgs', max_iter=10000)  # tune max_iter hyperparameter to achieve convergence\n",
    "model = model.fit(train.loc[:,df.columns!=\"num_binary\"]\n",
    "                  ,train[\"num_binary\"])"
   ]
  },
  {
   "cell_type": "markdown",
   "metadata": {},
   "source": [
    "Basic prediction, confusion matrix, and model score."
   ]
  },
  {
   "cell_type": "code",
   "execution_count": 43,
   "metadata": {},
   "outputs": [
    {
     "name": "stdout",
     "output_type": "stream",
     "text": [
      "[[43 12]\n",
      " [ 2 33]]\n",
      "84.444 %\n"
     ]
    }
   ],
   "source": [
    "# prediction, confusion matrix, model score (\"model score\" here is calc of confusion matrix)\n",
    "from sklearn.metrics import confusion_matrix\n",
    "pred = model.predict(test.loc[:,df.columns!=\"num_binary\"])  # calc predictions\n",
    "print(confusion_matrix(pred, test[\"num_binary\"]))  # confusion matrix\n",
    "score = model.score(test.loc[:,df.columns!=\"num_binary\"],test[\"num_binary\"])\n",
    "print(f'{score*100:.5}%')\n"
   ]
  },
  {
   "cell_type": "code",
   "execution_count": 44,
   "metadata": {},
   "outputs": [],
   "source": [
    "# sag\n",
    "from sklearn.linear_model import LogisticRegression\n",
    "model = LogisticRegression(solver='sag', max_iter=10000)  # tune max_iter hyperparameter to achieve convergence\n",
    "model = model.fit(train.loc[:,df.columns!=\"num_binary\"]\n",
    "                  ,train[\"num_binary\"])"
   ]
  },
  {
   "cell_type": "markdown",
   "metadata": {},
   "source": [
    "Basic prediction, confusion matrix, and model score."
   ]
  },
  {
   "cell_type": "code",
   "execution_count": 54,
   "metadata": {},
   "outputs": [
    {
     "name": "stdout",
     "output_type": "stream",
     "text": [
      "[[39 11]\n",
      " [ 6 34]]\n",
      "81.111%\n"
     ]
    }
   ],
   "source": [
    "# prediction, confusion matrix, model score (\"model score\" here is calc of confusion matrix)\n",
    "from sklearn.metrics import confusion_matrix\n",
    "pred = model.predict(test.loc[:,df.columns!=\"num_binary\"])  # calc predictions\n",
    "print(confusion_matrix(pred, test[\"num_binary\"]))  # confusion matrix\n",
    "score = model.score(test.loc[:,df.columns!=\"num_binary\"],test[\"num_binary\"])\n",
    "print(f'{score*100:.5}%')"
   ]
  },
  {
   "cell_type": "markdown",
   "metadata": {},
   "source": [
    "## Random Forest"
   ]
  },
  {
   "cell_type": "code",
   "execution_count": 46,
   "metadata": {},
   "outputs": [],
   "source": [
    "from sklearn.ensemble import RandomForestClassifier\n",
    "model = RandomForestClassifier(n_estimators = 5000, random_state = 51)\n",
    "model = model.fit(train.loc[:,df.columns!=\"num_binary\"], train[\"num_binary\"])"
   ]
  },
  {
   "cell_type": "markdown",
   "metadata": {},
   "source": [
    "Basic prediction, confusion matrix, and model score."
   ]
  },
  {
   "cell_type": "code",
   "execution_count": 47,
   "metadata": {},
   "outputs": [
    {
     "name": "stdout",
     "output_type": "stream",
     "text": [
      "[[39 11]\n",
      " [ 6 34]]\n",
      "81.111%\n"
     ]
    }
   ],
   "source": [
    "# prediction, confusion matrix, model score (\"model score\" here is calc of confusion matrix)\n",
    "from sklearn.metrics import confusion_matrix\n",
    "pred = model.predict(test.loc[:,df.columns!=\"num_binary\"])  # calc predictions\n",
    "print(confusion_matrix(pred, test[\"num_binary\"]))  # confusion matrix\n",
    "score = model.score(test.loc[:,df.columns!=\"num_binary\"],test[\"num_binary\"])\n",
    "print(f'{score*100:.5}%')"
   ]
  },
  {
   "cell_type": "markdown",
   "metadata": {},
   "source": [
    "## SVM"
   ]
  },
  {
   "cell_type": "code",
   "execution_count": 49,
   "metadata": {},
   "outputs": [],
   "source": [
    "from sklearn import svm\n",
    "model = svm.SVC(gamma='scale', kernel='linear')  # need linear\n",
    "model = model.fit(train.loc[:,df.columns!=\"num_binary\"], train[\"num_binary\"])"
   ]
  },
  {
   "cell_type": "markdown",
   "metadata": {},
   "source": [
    "Basic prediction, confusion matrix, and model score."
   ]
  },
  {
   "cell_type": "code",
   "execution_count": 50,
   "metadata": {},
   "outputs": [
    {
     "name": "stdout",
     "output_type": "stream",
     "text": [
      "[[41 11]\n",
      " [ 4 34]]\n",
      "83.333%\n"
     ]
    }
   ],
   "source": [
    "# prediction, confusion matrix, model score (\"model score\" here is calc of confusion matrix)\n",
    "from sklearn.metrics import confusion_matrix\n",
    "pred = model.predict(test.loc[:,df.columns!=\"num_binary\"])  # calc predictions\n",
    "print(confusion_matrix(pred, test[\"num_binary\"]))  # confusion matrix\n",
    "score = model.score(test.loc[:,df.columns!=\"num_binary\"],test[\"num_binary\"])\n",
    "print(f'{score*100:.5}%')"
   ]
  },
  {
   "cell_type": "markdown",
   "metadata": {},
   "source": [
    "## Decision Trees"
   ]
  },
  {
   "cell_type": "code",
   "execution_count": 52,
   "metadata": {},
   "outputs": [],
   "source": [
    "from sklearn.tree import DecisionTreeClassifier\n",
    "model = DecisionTreeClassifier(criterion = \"gini\", random_state = 101,\n",
    "                               max_depth=10, min_samples_leaf=10)\n",
    "model = model.fit(train.loc[:,df.columns!=\"num_binary\"], train[\"num_binary\"])"
   ]
  },
  {
   "cell_type": "markdown",
   "metadata": {},
   "source": [
    "Basic prediction, confusion matrix, and model score."
   ]
  },
  {
   "cell_type": "code",
   "execution_count": 53,
   "metadata": {},
   "outputs": [
    {
     "name": "stdout",
     "output_type": "stream",
     "text": [
      "[[39 11]\n",
      " [ 6 34]]\n",
      "81.111%\n"
     ]
    }
   ],
   "source": [
    "# prediction, confusion matrix, model score (\"model score\" here is calc of confusion matrix)\n",
    "from sklearn.metrics import confusion_matrix\n",
    "pred = model.predict(test.loc[:,df.columns!=\"num_binary\"])  # calc predictions\n",
    "print(confusion_matrix(pred, test[\"num_binary\"]))  # confusion matrix\n",
    "score = model.score(test.loc[:,df.columns!=\"num_binary\"],test[\"num_binary\"])\n",
    "print(f'{score*100:.5}%')"
   ]
  },
  {
   "cell_type": "code",
   "execution_count": null,
   "metadata": {},
   "outputs": [],
   "source": [
    "\n"
   ]
  }
 ],
 "metadata": {
  "kernelspec": {
   "display_name": "Python 3",
   "language": "python",
   "name": "python3"
  },
  "language_info": {
   "codemirror_mode": {
    "name": "ipython",
    "version": 3
   },
   "file_extension": ".py",
   "mimetype": "text/x-python",
   "name": "python",
   "nbconvert_exporter": "python",
   "pygments_lexer": "ipython3",
   "version": "3.7.1"
  }
 },
 "nbformat": 4,
 "nbformat_minor": 2
}
